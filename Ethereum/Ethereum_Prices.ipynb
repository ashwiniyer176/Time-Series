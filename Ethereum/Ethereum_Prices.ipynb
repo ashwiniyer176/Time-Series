{
 "cells": [
  {
   "cell_type": "markdown",
   "metadata": {},
   "source": [
    "# Predicting Ethereum Prices using LSTMs"
   ]
  },
  {
   "cell_type": "code",
   "execution_count": 1,
   "metadata": {},
   "outputs": [],
   "source": [
    "import numpy as np\n",
    "import pandas as pd\n",
    "import matplotlib.pyplot as plt\n",
    "import seaborn as sns\n",
    "%matplotlib inline"
   ]
  },
  {
   "cell_type": "code",
   "execution_count": 2,
   "metadata": {},
   "outputs": [
    {
     "data": {
      "text/html": [
       "<div>\n",
       "<style scoped>\n",
       "    .dataframe tbody tr th:only-of-type {\n",
       "        vertical-align: middle;\n",
       "    }\n",
       "\n",
       "    .dataframe tbody tr th {\n",
       "        vertical-align: top;\n",
       "    }\n",
       "\n",
       "    .dataframe thead th {\n",
       "        text-align: right;\n",
       "    }\n",
       "</style>\n",
       "<table border=\"1\" class=\"dataframe\">\n",
       "  <thead>\n",
       "    <tr style=\"text-align: right;\">\n",
       "      <th></th>\n",
       "      <th>Date</th>\n",
       "      <th>Open</th>\n",
       "      <th>High</th>\n",
       "      <th>Low</th>\n",
       "      <th>Close</th>\n",
       "      <th>Adj Close</th>\n",
       "      <th>Volume</th>\n",
       "    </tr>\n",
       "  </thead>\n",
       "  <tbody>\n",
       "    <tr>\n",
       "      <th>0</th>\n",
       "      <td>2015-08-07</td>\n",
       "      <td>2.831620</td>\n",
       "      <td>3.536610</td>\n",
       "      <td>2.521120</td>\n",
       "      <td>2.772120</td>\n",
       "      <td>2.772120</td>\n",
       "      <td>164329.0</td>\n",
       "    </tr>\n",
       "    <tr>\n",
       "      <th>1</th>\n",
       "      <td>2015-08-08</td>\n",
       "      <td>2.793760</td>\n",
       "      <td>2.798810</td>\n",
       "      <td>0.714725</td>\n",
       "      <td>0.753325</td>\n",
       "      <td>0.753325</td>\n",
       "      <td>674188.0</td>\n",
       "    </tr>\n",
       "    <tr>\n",
       "      <th>2</th>\n",
       "      <td>2015-08-09</td>\n",
       "      <td>0.706136</td>\n",
       "      <td>0.879810</td>\n",
       "      <td>0.629191</td>\n",
       "      <td>0.701897</td>\n",
       "      <td>0.701897</td>\n",
       "      <td>532170.0</td>\n",
       "    </tr>\n",
       "    <tr>\n",
       "      <th>3</th>\n",
       "      <td>2015-08-10</td>\n",
       "      <td>0.713989</td>\n",
       "      <td>0.729854</td>\n",
       "      <td>0.636546</td>\n",
       "      <td>0.708448</td>\n",
       "      <td>0.708448</td>\n",
       "      <td>405283.0</td>\n",
       "    </tr>\n",
       "    <tr>\n",
       "      <th>4</th>\n",
       "      <td>2015-08-11</td>\n",
       "      <td>0.708087</td>\n",
       "      <td>1.131410</td>\n",
       "      <td>0.663235</td>\n",
       "      <td>1.067860</td>\n",
       "      <td>1.067860</td>\n",
       "      <td>1463100.0</td>\n",
       "    </tr>\n",
       "  </tbody>\n",
       "</table>\n",
       "</div>"
      ],
      "text/plain": [
       "         Date      Open      High       Low     Close  Adj Close     Volume\n",
       "0  2015-08-07  2.831620  3.536610  2.521120  2.772120   2.772120   164329.0\n",
       "1  2015-08-08  2.793760  2.798810  0.714725  0.753325   0.753325   674188.0\n",
       "2  2015-08-09  0.706136  0.879810  0.629191  0.701897   0.701897   532170.0\n",
       "3  2015-08-10  0.713989  0.729854  0.636546  0.708448   0.708448   405283.0\n",
       "4  2015-08-11  0.708087  1.131410  0.663235  1.067860   1.067860  1463100.0"
      ]
     },
     "execution_count": 2,
     "metadata": {},
     "output_type": "execute_result"
    }
   ],
   "source": [
    "df=pd.read_csv(\"ETH-USD.csv\")\n",
    "df.head()"
   ]
  },
  {
   "cell_type": "code",
   "execution_count": 3,
   "metadata": {},
   "outputs": [
    {
     "data": {
      "text/plain": [
       "(2277, 7)"
      ]
     },
     "execution_count": 3,
     "metadata": {},
     "output_type": "execute_result"
    }
   ],
   "source": [
    "df.shape"
   ]
  },
  {
   "cell_type": "code",
   "execution_count": 4,
   "metadata": {},
   "outputs": [
    {
     "data": {
      "text/plain": [
       "Date         0\n",
       "Open         4\n",
       "High         4\n",
       "Low          4\n",
       "Close        4\n",
       "Adj Close    4\n",
       "Volume       4\n",
       "dtype: int64"
      ]
     },
     "execution_count": 4,
     "metadata": {},
     "output_type": "execute_result"
    }
   ],
   "source": [
    "df.isnull().sum()"
   ]
  },
  {
   "cell_type": "code",
   "execution_count": 5,
   "metadata": {},
   "outputs": [],
   "source": [
    "df.dropna(axis=0,inplace=True)"
   ]
  },
  {
   "cell_type": "code",
   "execution_count": 6,
   "metadata": {},
   "outputs": [
    {
     "data": {
      "text/plain": [
       "Date         0\n",
       "Open         0\n",
       "High         0\n",
       "Low          0\n",
       "Close        0\n",
       "Adj Close    0\n",
       "Volume       0\n",
       "dtype: int64"
      ]
     },
     "execution_count": 6,
     "metadata": {},
     "output_type": "execute_result"
    }
   ],
   "source": [
    "df.isnull().sum()\n"
   ]
  },
  {
   "cell_type": "code",
   "execution_count": 7,
   "metadata": {},
   "outputs": [
    {
     "data": {
      "text/html": [
       "<div>\n",
       "<style scoped>\n",
       "    .dataframe tbody tr th:only-of-type {\n",
       "        vertical-align: middle;\n",
       "    }\n",
       "\n",
       "    .dataframe tbody tr th {\n",
       "        vertical-align: top;\n",
       "    }\n",
       "\n",
       "    .dataframe thead th {\n",
       "        text-align: right;\n",
       "    }\n",
       "</style>\n",
       "<table border=\"1\" class=\"dataframe\">\n",
       "  <thead>\n",
       "    <tr style=\"text-align: right;\">\n",
       "      <th></th>\n",
       "      <th>Date</th>\n",
       "      <th>Open</th>\n",
       "      <th>High</th>\n",
       "      <th>Low</th>\n",
       "      <th>Close</th>\n",
       "      <th>Adj Close</th>\n",
       "      <th>Volume</th>\n",
       "    </tr>\n",
       "  </thead>\n",
       "  <tbody>\n",
       "  </tbody>\n",
       "</table>\n",
       "</div>"
      ],
      "text/plain": [
       "Empty DataFrame\n",
       "Columns: [Date, Open, High, Low, Close, Adj Close, Volume]\n",
       "Index: []"
      ]
     },
     "execution_count": 7,
     "metadata": {},
     "output_type": "execute_result"
    }
   ],
   "source": [
    "df[df['Close']!=df['Adj Close']]"
   ]
  },
  {
   "cell_type": "markdown",
   "metadata": {},
   "source": [
    "All values of `Close` and `Adj Close` are the same, so we can drop `Adj Close`."
   ]
  },
  {
   "cell_type": "code",
   "execution_count": 8,
   "metadata": {},
   "outputs": [],
   "source": [
    "df.drop('Adj Close',axis=1,inplace=True)"
   ]
  },
  {
   "cell_type": "code",
   "execution_count": 9,
   "metadata": {},
   "outputs": [],
   "source": [
    "df['Day Change']=df['Close']-df['Open']"
   ]
  },
  {
   "cell_type": "markdown",
   "metadata": {},
   "source": [
    "We engineer a feature `Day Change` to measure the amount by which the price of ETH has fluctuated in a day."
   ]
  },
  {
   "cell_type": "code",
   "execution_count": 10,
   "metadata": {},
   "outputs": [
    {
     "data": {
      "text/html": [
       "<div>\n",
       "<style scoped>\n",
       "    .dataframe tbody tr th:only-of-type {\n",
       "        vertical-align: middle;\n",
       "    }\n",
       "\n",
       "    .dataframe tbody tr th {\n",
       "        vertical-align: top;\n",
       "    }\n",
       "\n",
       "    .dataframe thead th {\n",
       "        text-align: right;\n",
       "    }\n",
       "</style>\n",
       "<table border=\"1\" class=\"dataframe\">\n",
       "  <thead>\n",
       "    <tr style=\"text-align: right;\">\n",
       "      <th></th>\n",
       "      <th>Open</th>\n",
       "      <th>High</th>\n",
       "      <th>Low</th>\n",
       "      <th>Close</th>\n",
       "      <th>Volume</th>\n",
       "      <th>Day Change</th>\n",
       "    </tr>\n",
       "  </thead>\n",
       "  <tbody>\n",
       "    <tr>\n",
       "      <th>Open</th>\n",
       "      <td>1.000000</td>\n",
       "      <td>0.999193</td>\n",
       "      <td>0.998129</td>\n",
       "      <td>0.997768</td>\n",
       "      <td>0.702089</td>\n",
       "      <td>0.031358</td>\n",
       "    </tr>\n",
       "    <tr>\n",
       "      <th>High</th>\n",
       "      <td>0.999193</td>\n",
       "      <td>1.000000</td>\n",
       "      <td>0.998028</td>\n",
       "      <td>0.998948</td>\n",
       "      <td>0.707808</td>\n",
       "      <td>0.061041</td>\n",
       "    </tr>\n",
       "    <tr>\n",
       "      <th>Low</th>\n",
       "      <td>0.998129</td>\n",
       "      <td>0.998028</td>\n",
       "      <td>1.000000</td>\n",
       "      <td>0.998930</td>\n",
       "      <td>0.689061</td>\n",
       "      <td>0.076648</td>\n",
       "    </tr>\n",
       "    <tr>\n",
       "      <th>Close</th>\n",
       "      <td>0.997768</td>\n",
       "      <td>0.998948</td>\n",
       "      <td>0.998930</td>\n",
       "      <td>1.000000</td>\n",
       "      <td>0.699612</td>\n",
       "      <td>0.098038</td>\n",
       "    </tr>\n",
       "    <tr>\n",
       "      <th>Volume</th>\n",
       "      <td>0.702089</td>\n",
       "      <td>0.707808</td>\n",
       "      <td>0.689061</td>\n",
       "      <td>0.699612</td>\n",
       "      <td>1.000000</td>\n",
       "      <td>0.008393</td>\n",
       "    </tr>\n",
       "    <tr>\n",
       "      <th>Day Change</th>\n",
       "      <td>0.031358</td>\n",
       "      <td>0.061041</td>\n",
       "      <td>0.076648</td>\n",
       "      <td>0.098038</td>\n",
       "      <td>0.008393</td>\n",
       "      <td>1.000000</td>\n",
       "    </tr>\n",
       "  </tbody>\n",
       "</table>\n",
       "</div>"
      ],
      "text/plain": [
       "                Open      High       Low     Close    Volume  Day Change\n",
       "Open        1.000000  0.999193  0.998129  0.997768  0.702089    0.031358\n",
       "High        0.999193  1.000000  0.998028  0.998948  0.707808    0.061041\n",
       "Low         0.998129  0.998028  1.000000  0.998930  0.689061    0.076648\n",
       "Close       0.997768  0.998948  0.998930  1.000000  0.699612    0.098038\n",
       "Volume      0.702089  0.707808  0.689061  0.699612  1.000000    0.008393\n",
       "Day Change  0.031358  0.061041  0.076648  0.098038  0.008393    1.000000"
      ]
     },
     "execution_count": 10,
     "metadata": {},
     "output_type": "execute_result"
    }
   ],
   "source": [
    "df.corr()"
   ]
  },
  {
   "cell_type": "code",
   "execution_count": 11,
   "metadata": {},
   "outputs": [
    {
     "data": {
      "text/plain": [
       "[<matplotlib.lines.Line2D at 0x1af801faca0>]"
      ]
     },
     "execution_count": 11,
     "metadata": {},
     "output_type": "execute_result"
    },
    {
     "data": {
      "image/png": "[encoded data removed]",
      "text/plain": [
       "<Figure size 432x288 with 1 Axes>"
      ]
     },
     "metadata": {
      "needs_background": "light"
     },
     "output_type": "display_data"
    }
   ],
   "source": [
    "plt.plot(df['Close'])"
   ]
  },
  {
   "cell_type": "markdown",
   "metadata": {},
   "source": [
    "There is high volatility in the prices of ETH, which spike briefly near the 1000th day mark and then shoot up after 2000th day. Splitting our dataset somewhere around the 1500-1800 mark for test would be a good way to proceed in the beginning. As we can observe from the correlation table, there is a high correlation between the `Open` and `Close` prices. This can help us predict the `Close` prices which is our target variable"
   ]
  },
  {
   "cell_type": "code",
   "execution_count": 12,
   "metadata": {},
   "outputs": [
    {
     "data": {
      "text/plain": [
       "[<matplotlib.lines.Line2D at 0x1af802e86a0>]"
      ]
     },
     "execution_count": 12,
     "metadata": {},
     "output_type": "execute_result"
    },
    {
     "data": {
      "image/png": "[encoded data removed]",
      "text/plain": [
       "<Figure size 432x288 with 1 Axes>"
      ]
     },
     "metadata": {
      "needs_background": "light"
     },
     "output_type": "display_data"
    }
   ],
   "source": [
    "plt.plot(df['Day Change'])"
   ]
  },
  {
   "cell_type": "code",
   "execution_count": 13,
   "metadata": {},
   "outputs": [
    {
     "data": {
      "text/html": [
       "<div>\n",
       "<style scoped>\n",
       "    .dataframe tbody tr th:only-of-type {\n",
       "        vertical-align: middle;\n",
       "    }\n",
       "\n",
       "    .dataframe tbody tr th {\n",
       "        vertical-align: top;\n",
       "    }\n",
       "\n",
       "    .dataframe thead th {\n",
       "        text-align: right;\n",
       "    }\n",
       "</style>\n",
       "<table border=\"1\" class=\"dataframe\">\n",
       "  <thead>\n",
       "    <tr style=\"text-align: right;\">\n",
       "      <th></th>\n",
       "      <th>Date</th>\n",
       "      <th>Open</th>\n",
       "      <th>High</th>\n",
       "      <th>Low</th>\n",
       "      <th>Close</th>\n",
       "      <th>Volume</th>\n",
       "      <th>Day Change</th>\n",
       "    </tr>\n",
       "  </thead>\n",
       "  <tbody>\n",
       "    <tr>\n",
       "      <th>0</th>\n",
       "      <td>2015-08-07</td>\n",
       "      <td>2.831620</td>\n",
       "      <td>3.536610</td>\n",
       "      <td>2.521120</td>\n",
       "      <td>2.772120</td>\n",
       "      <td>1.643290e+05</td>\n",
       "      <td>-0.059500</td>\n",
       "    </tr>\n",
       "    <tr>\n",
       "      <th>1</th>\n",
       "      <td>2015-08-08</td>\n",
       "      <td>2.793760</td>\n",
       "      <td>2.798810</td>\n",
       "      <td>0.714725</td>\n",
       "      <td>0.753325</td>\n",
       "      <td>6.741880e+05</td>\n",
       "      <td>-2.040435</td>\n",
       "    </tr>\n",
       "    <tr>\n",
       "      <th>2</th>\n",
       "      <td>2015-08-09</td>\n",
       "      <td>0.706136</td>\n",
       "      <td>0.879810</td>\n",
       "      <td>0.629191</td>\n",
       "      <td>0.701897</td>\n",
       "      <td>5.321700e+05</td>\n",
       "      <td>-0.004239</td>\n",
       "    </tr>\n",
       "    <tr>\n",
       "      <th>3</th>\n",
       "      <td>2015-08-10</td>\n",
       "      <td>0.713989</td>\n",
       "      <td>0.729854</td>\n",
       "      <td>0.636546</td>\n",
       "      <td>0.708448</td>\n",
       "      <td>4.052830e+05</td>\n",
       "      <td>-0.005541</td>\n",
       "    </tr>\n",
       "    <tr>\n",
       "      <th>4</th>\n",
       "      <td>2015-08-11</td>\n",
       "      <td>0.708087</td>\n",
       "      <td>1.131410</td>\n",
       "      <td>0.663235</td>\n",
       "      <td>1.067860</td>\n",
       "      <td>1.463100e+06</td>\n",
       "      <td>0.359773</td>\n",
       "    </tr>\n",
       "    <tr>\n",
       "      <th>...</th>\n",
       "      <td>...</td>\n",
       "      <td>...</td>\n",
       "      <td>...</td>\n",
       "      <td>...</td>\n",
       "      <td>...</td>\n",
       "      <td>...</td>\n",
       "      <td>...</td>\n",
       "    </tr>\n",
       "    <tr>\n",
       "      <th>2272</th>\n",
       "      <td>2021-10-26</td>\n",
       "      <td>4217.337891</td>\n",
       "      <td>4289.131348</td>\n",
       "      <td>4106.823730</td>\n",
       "      <td>4131.102051</td>\n",
       "      <td>1.715771e+10</td>\n",
       "      <td>-86.235840</td>\n",
       "    </tr>\n",
       "    <tr>\n",
       "      <th>2273</th>\n",
       "      <td>2021-10-27</td>\n",
       "      <td>4132.173340</td>\n",
       "      <td>4299.152832</td>\n",
       "      <td>3930.257324</td>\n",
       "      <td>3930.257324</td>\n",
       "      <td>2.621953e+10</td>\n",
       "      <td>-201.916016</td>\n",
       "    </tr>\n",
       "    <tr>\n",
       "      <th>2274</th>\n",
       "      <td>2021-10-28</td>\n",
       "      <td>3924.815430</td>\n",
       "      <td>4293.150879</td>\n",
       "      <td>3905.706055</td>\n",
       "      <td>4287.318848</td>\n",
       "      <td>2.595815e+10</td>\n",
       "      <td>362.503418</td>\n",
       "    </tr>\n",
       "    <tr>\n",
       "      <th>2275</th>\n",
       "      <td>2021-10-29</td>\n",
       "      <td>4288.686523</td>\n",
       "      <td>4455.735352</td>\n",
       "      <td>4271.707520</td>\n",
       "      <td>4414.746582</td>\n",
       "      <td>2.296764e+10</td>\n",
       "      <td>126.060059</td>\n",
       "    </tr>\n",
       "    <tr>\n",
       "      <th>2276</th>\n",
       "      <td>2021-10-30</td>\n",
       "      <td>4416.265137</td>\n",
       "      <td>4416.265137</td>\n",
       "      <td>4315.445313</td>\n",
       "      <td>4315.445313</td>\n",
       "      <td>1.814766e+10</td>\n",
       "      <td>-100.819824</td>\n",
       "    </tr>\n",
       "  </tbody>\n",
       "</table>\n",
       "<p>2273 rows × 7 columns</p>\n",
       "</div>"
      ],
      "text/plain": [
       "            Date         Open         High          Low        Close  \\\n",
       "0     2015-08-07     2.831620     3.536610     2.521120     2.772120   \n",
       "1     2015-08-08     2.793760     2.798810     0.714725     0.753325   \n",
       "2     2015-08-09     0.706136     0.879810     0.629191     0.701897   \n",
       "3     2015-08-10     0.713989     0.729854     0.636546     0.708448   \n",
       "4     2015-08-11     0.708087     1.131410     0.663235     1.067860   \n",
       "...          ...          ...          ...          ...          ...   \n",
       "2272  2021-10-26  4217.337891  4289.131348  4106.823730  4131.102051   \n",
       "2273  2021-10-27  4132.173340  4299.152832  3930.257324  3930.257324   \n",
       "2274  2021-10-28  3924.815430  4293.150879  3905.706055  4287.318848   \n",
       "2275  2021-10-29  4288.686523  4455.735352  4271.707520  4414.746582   \n",
       "2276  2021-10-30  4416.265137  4416.265137  4315.445313  4315.445313   \n",
       "\n",
       "            Volume  Day Change  \n",
       "0     1.643290e+05   -0.059500  \n",
       "1     6.741880e+05   -2.040435  \n",
       "2     5.321700e+05   -0.004239  \n",
       "3     4.052830e+05   -0.005541  \n",
       "4     1.463100e+06    0.359773  \n",
       "...            ...         ...  \n",
       "2272  1.715771e+10  -86.235840  \n",
       "2273  2.621953e+10 -201.916016  \n",
       "2274  2.595815e+10  362.503418  \n",
       "2275  2.296764e+10  126.060059  \n",
       "2276  1.814766e+10 -100.819824  \n",
       "\n",
       "[2273 rows x 7 columns]"
      ]
     },
     "execution_count": 13,
     "metadata": {},
     "output_type": "execute_result"
    }
   ],
   "source": [
    "df"
   ]
  },
  {
   "cell_type": "code",
   "execution_count": 14,
   "metadata": {},
   "outputs": [],
   "source": [
    "from sklearn.preprocessing import MinMaxScaler"
   ]
  },
  {
   "cell_type": "code",
   "execution_count": 15,
   "metadata": {},
   "outputs": [],
   "source": [
    "scaler=MinMaxScaler()"
   ]
  },
  {
   "cell_type": "code",
   "execution_count": 16,
   "metadata": {},
   "outputs": [],
   "source": [
    "def createData(data, look_back=1):\n",
    "    X, y = [], []\n",
    "    for i in range(len(data)-look_back-1):\n",
    "        a = data[i:(i+look_back)]['Close'].values\n",
    "        X.append(a)\n",
    "        y.append(data.iloc[i+look_back,5])\n",
    "    return np.array(X), np.array(y)\n"
   ]
  },
  {
   "cell_type": "code",
   "execution_count": 17,
   "metadata": {},
   "outputs": [],
   "source": [
    "X,y=createData(df,look_back=3)"
   ]
  },
  {
   "cell_type": "code",
   "execution_count": 18,
   "metadata": {},
   "outputs": [],
   "source": [
    "X=scaler.fit_transform(X)"
   ]
  },
  {
   "cell_type": "code",
   "execution_count": 19,
   "metadata": {},
   "outputs": [],
   "source": [
    "y=scaler.fit_transform(y.reshape(-1,1))"
   ]
  },
  {
   "cell_type": "code",
   "execution_count": 20,
   "metadata": {},
   "outputs": [],
   "source": [
    "X = np.reshape(X, (X.shape[0], 1, X.shape[1]))\n"
   ]
  },
  {
   "cell_type": "code",
   "execution_count": 21,
   "metadata": {},
   "outputs": [],
   "source": [
    "X_val, y_val = X[800:1200, :], y[800:1200]\n",
    "X_train, y_train = X,y"
   ]
  },
  {
   "cell_type": "code",
   "execution_count": 22,
   "metadata": {},
   "outputs": [
    {
     "data": {
      "text/plain": [
       "(2269, 1, 3)"
      ]
     },
     "execution_count": 22,
     "metadata": {},
     "output_type": "execute_result"
    }
   ],
   "source": [
    "X_train.shape"
   ]
  },
  {
   "cell_type": "code",
   "execution_count": 23,
   "metadata": {},
   "outputs": [
    {
     "data": {
      "text/plain": [
       "array([[3.58836310e-06],\n",
       "       [1.61094546e-05],\n",
       "       [2.42474414e-05],\n",
       "       ...,\n",
       "       [3.10352225e-01],\n",
       "       [3.07258391e-01],\n",
       "       [2.71860508e-01]])"
      ]
     },
     "execution_count": 23,
     "metadata": {},
     "output_type": "execute_result"
    }
   ],
   "source": [
    "y_train"
   ]
  },
  {
   "cell_type": "code",
   "execution_count": 24,
   "metadata": {},
   "outputs": [],
   "source": [
    "from keras import layers,models\n",
    "from keras.callbacks import EarlyStopping"
   ]
  },
  {
   "cell_type": "code",
   "execution_count": 25,
   "metadata": {},
   "outputs": [],
   "source": [
    "es = EarlyStopping(monitor='loss', patience=5, restore_best_weights=True)"
   ]
  },
  {
   "cell_type": "code",
   "execution_count": 71,
   "metadata": {},
   "outputs": [],
   "source": [
    "model=models.Sequential()\n",
    "\n",
    "model.add(layers.LSTM(3,input_shape=(1,3)))\n",
    "model.add(layers.Dense(2))\n",
    "model.add(layers.Dropout(0.2))\n",
    "model.add(layers.Dense(1))\n",
    "model.compile(loss=\"mean_squared_error\", optimizer=\"adam\")\n"
   ]
  },
  {
   "cell_type": "code",
   "execution_count": 72,
   "metadata": {},
   "outputs": [
    {
     "name": "stdout",
     "output_type": "stream",
     "text": [
      "Epoch 1/50\n",
      "2269/2269 [==============================] - 7s 3ms/step - loss: 0.0094 - val_loss: 0.0055\n",
      "Epoch 2/50\n",
      "2269/2269 [==============================] - 6s 3ms/step - loss: 0.0088 - val_loss: 0.0069\n",
      "Epoch 3/50\n",
      "2269/2269 [==============================] - 7s 3ms/step - loss: 0.0087 - val_loss: 0.0075\n",
      "Epoch 4/50\n",
      "2269/2269 [==============================] - 6s 3ms/step - loss: 0.0088 - val_loss: 0.0074\n",
      "Epoch 5/50\n",
      "2269/2269 [==============================] - 6s 3ms/step - loss: 0.0085 - val_loss: 0.0063\n",
      "Epoch 6/50\n",
      "2269/2269 [==============================] - 6s 3ms/step - loss: 0.0089 - val_loss: 0.0070\n",
      "Epoch 7/50\n",
      "2269/2269 [==============================] - 6s 3ms/step - loss: 0.0085 - val_loss: 0.0085\n",
      "Epoch 8/50\n",
      "2269/2269 [==============================] - 6s 3ms/step - loss: 0.0086 - val_loss: 0.0097\n",
      "Epoch 9/50\n",
      "2269/2269 [==============================] - 6s 3ms/step - loss: 0.0085 - val_loss: 0.0069\n",
      "Epoch 10/50\n",
      "2269/2269 [==============================] - 6s 3ms/step - loss: 0.0091 - val_loss: 0.0092\n",
      "Epoch 11/50\n",
      "2269/2269 [==============================] - 6s 3ms/step - loss: 0.0089 - val_loss: 0.0063\n",
      "Epoch 12/50\n",
      "2269/2269 [==============================] - 6s 3ms/step - loss: 0.0088 - val_loss: 0.0069\n",
      "Epoch 13/50\n",
      "2269/2269 [==============================] - 6s 3ms/step - loss: 0.0087 - val_loss: 0.0076\n",
      "Epoch 14/50\n",
      "2269/2269 [==============================] - 6s 3ms/step - loss: 0.0089 - val_loss: 0.0071\n",
      "Epoch 15/50\n",
      "2269/2269 [==============================] - 6s 3ms/step - loss: 0.0089 - val_loss: 0.0086\n",
      "Epoch 16/50\n",
      "2269/2269 [==============================] - 6s 3ms/step - loss: 0.0086 - val_loss: 0.0079\n",
      "Epoch 17/50\n",
      "2269/2269 [==============================] - 6s 3ms/step - loss: 0.0088 - val_loss: 0.0091\n",
      "Epoch 18/50\n",
      "2269/2269 [==============================] - 6s 3ms/step - loss: 0.0088 - val_loss: 0.0089\n",
      "Epoch 19/50\n",
      "2269/2269 [==============================] - 6s 3ms/step - loss: 0.0086 - val_loss: 0.0073\n",
      "Epoch 20/50\n",
      "2269/2269 [==============================] - 6s 3ms/step - loss: 0.0089 - val_loss: 0.0072\n",
      "Epoch 21/50\n",
      "2269/2269 [==============================] - 6s 3ms/step - loss: 0.0088 - val_loss: 0.0077\n",
      "Epoch 22/50\n",
      "2269/2269 [==============================] - 6s 3ms/step - loss: 0.0087 - val_loss: 0.0070\n",
      "Epoch 23/50\n",
      "2269/2269 [==============================] - 6s 3ms/step - loss: 0.0090 - val_loss: 0.0036\n",
      "Epoch 24/50\n",
      "2269/2269 [==============================] - 6s 3ms/step - loss: 0.0088 - val_loss: 0.0075\n",
      "Epoch 25/50\n",
      "2269/2269 [==============================] - 6s 3ms/step - loss: 0.0085 - val_loss: 0.0085\n",
      "Epoch 26/50\n",
      "2269/2269 [==============================] - 6s 3ms/step - loss: 0.0089 - val_loss: 0.0095\n",
      "Epoch 27/50\n",
      "2269/2269 [==============================] - 6s 3ms/step - loss: 0.0086 - val_loss: 0.0101\n",
      "Epoch 28/50\n",
      "2269/2269 [==============================] - 6s 3ms/step - loss: 0.0091 - val_loss: 0.0066\n",
      "Epoch 29/50\n",
      "2269/2269 [==============================] - 6s 3ms/step - loss: 0.0090 - val_loss: 0.0077\n",
      "Epoch 30/50\n",
      "2269/2269 [==============================] - 6s 3ms/step - loss: 0.0086 - val_loss: 0.0059\n",
      "Epoch 31/50\n",
      "2269/2269 [==============================] - 7s 3ms/step - loss: 0.0086 - val_loss: 0.0072\n",
      "Epoch 32/50\n",
      "2269/2269 [==============================] - 7s 3ms/step - loss: 0.0089 - val_loss: 0.0083\n",
      "Epoch 33/50\n",
      "2269/2269 [==============================] - 6s 3ms/step - loss: 0.0087 - val_loss: 0.0064\n",
      "Epoch 34/50\n",
      "2269/2269 [==============================] - 6s 3ms/step - loss: 0.0086 - val_loss: 0.0063\n",
      "Epoch 35/50\n",
      "2269/2269 [==============================] - 6s 3ms/step - loss: 0.0083 - val_loss: 0.0120\n",
      "Epoch 36/50\n",
      "2269/2269 [==============================] - 6s 3ms/step - loss: 0.0086 - val_loss: 0.0058\n",
      "Epoch 37/50\n",
      "2269/2269 [==============================] - 6s 3ms/step - loss: 0.0084 - val_loss: 0.0055\n",
      "Epoch 38/50\n",
      "2269/2269 [==============================] - 7s 3ms/step - loss: 0.0089 - val_loss: 0.0090\n",
      "Epoch 39/50\n",
      "2269/2269 [==============================] - 7s 3ms/step - loss: 0.0088 - val_loss: 0.0080\n",
      "Epoch 40/50\n",
      "2269/2269 [==============================] - 6s 3ms/step - loss: 0.0086 - val_loss: 0.0051\n",
      "Epoch 41/50\n",
      "2269/2269 [==============================] - 6s 3ms/step - loss: 0.0088 - val_loss: 0.0081\n",
      "Epoch 42/50\n",
      "2269/2269 [==============================] - 6s 3ms/step - loss: 0.0088 - val_loss: 0.0098\n",
      "Epoch 43/50\n",
      "2269/2269 [==============================] - 7s 3ms/step - loss: 0.0089 - val_loss: 0.0083\n",
      "Epoch 44/50\n",
      "2269/2269 [==============================] - 6s 3ms/step - loss: 0.0087 - val_loss: 0.0076\n",
      "Epoch 45/50\n",
      "2269/2269 [==============================] - 6s 3ms/step - loss: 0.0086 - val_loss: 0.0073\n",
      "Epoch 46/50\n",
      "2269/2269 [==============================] - 6s 3ms/step - loss: 0.0086 - val_loss: 0.0076\n",
      "Epoch 47/50\n",
      "2269/2269 [==============================] - 6s 3ms/step - loss: 0.0087 - val_loss: 0.0064\n",
      "Epoch 48/50\n",
      "2269/2269 [==============================] - 6s 3ms/step - loss: 0.0088 - val_loss: 0.0101\n",
      "Epoch 49/50\n",
      "2269/2269 [==============================] - 6s 3ms/step - loss: 0.0088 - val_loss: 0.0075\n",
      "Epoch 50/50\n",
      "2269/2269 [==============================] - 6s 3ms/step - loss: 0.0086 - val_loss: 0.0065\n"
     ]
    }
   ],
   "source": [
    "history=model.fit(X_train,y_train,epochs=50,batch_size=1,validation_batch_size=1,validation_data=(X_val,y_val))"
   ]
  },
  {
   "cell_type": "code",
   "execution_count": 73,
   "metadata": {},
   "outputs": [
    {
     "data": {
      "text/plain": [
       "[<matplotlib.lines.Line2D at 0x1af9d5f8df0>]"
      ]
     },
     "execution_count": 73,
     "metadata": {},
     "output_type": "execute_result"
    },
    {
     "data": {
      "image/png": "[encoded data removed]",
      "text/plain": [
       "<Figure size 432x288 with 1 Axes>"
      ]
     },
     "metadata": {
      "needs_background": "light"
     },
     "output_type": "display_data"
    }
   ],
   "source": [
    "plt.plot(history.history['loss'])\n",
    "plt.plot(history.history['val_loss'])"
   ]
  },
  {
   "cell_type": "code",
   "execution_count": 74,
   "metadata": {},
   "outputs": [],
   "source": [
    "testPreds=model.predict(X_val)"
   ]
  },
  {
   "cell_type": "code",
   "execution_count": 75,
   "metadata": {},
   "outputs": [
    {
     "data": {
      "image/png": "[encoded data removed]",
      "text/plain": [
       "<Figure size 432x288 with 1 Axes>"
      ]
     },
     "metadata": {
      "needs_background": "light"
     },
     "output_type": "display_data"
    }
   ],
   "source": [
    "\n",
    "# plt.plot(y_val)\n",
    "plt.plot(testPreds)\n",
    "y_test = scaler.inverse_transform(y_val)\n",
    "testPreds = scaler.inverse_transform(testPreds)"
   ]
  },
  {
   "cell_type": "code",
   "execution_count": 76,
   "metadata": {},
   "outputs": [],
   "source": [
    "from sklearn.metrics import mean_absolute_error,mean_squared_error"
   ]
  },
  {
   "cell_type": "code",
   "execution_count": 77,
   "metadata": {},
   "outputs": [
    {
     "name": "stdout",
     "output_type": "stream",
     "text": [
      "MAE: 6278467949.16\n",
      "MSE: 4.669884277888003e+19\n"
     ]
    }
   ],
   "source": [
    "print(f\"MAE: {mean_absolute_error(y_test,testPreds)}\")\n",
    "print(f\"MSE: {mean_squared_error(y_test,testPreds)}\")"
   ]
  },
  {
   "cell_type": "code",
   "execution_count": 78,
   "metadata": {},
   "outputs": [
    {
     "data": {
      "text/plain": [
       "[<matplotlib.lines.Line2D at 0x1b05a48d040>]"
      ]
     },
     "execution_count": 78,
     "metadata": {},
     "output_type": "execute_result"
    },
    {
     "data": {
      "image/png": "[encoded data removed]",
      "text/plain": [
       "<Figure size 432x288 with 1 Axes>"
      ]
     },
     "metadata": {
      "needs_background": "light"
     },
     "output_type": "display_data"
    }
   ],
   "source": [
    "plt.plot(y_test)\n",
    "plt.plot(testPreds)"
   ]
  }
 ],
 "metadata": {
  "interpreter": {
   "hash": "f375280c252d8492f9929f545102be4436b56b7b9d809e2d50f7485678504f56"
  },
  "kernelspec": {
   "display_name": "Python 3.9.5 64-bit ('base': conda)",
   "language": "python",
   "name": "python3"
  },
  "language_info": {
   "codemirror_mode": {
    "name": "ipython",
    "version": 3
   },
   "file_extension": ".py",
   "mimetype": "text/x-python",
   "name": "python",
   "nbconvert_exporter": "python",
   "pygments_lexer": "ipython3",
   "version": "3.9.5"
  },
  "orig_nbformat": 4
 },
 "nbformat": 4,
 "nbformat_minor": 2
}
